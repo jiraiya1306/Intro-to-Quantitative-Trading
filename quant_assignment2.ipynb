{
 "cells": [
  {
   "cell_type": "code",
   "execution_count": null,
   "id": "aa913074",
   "metadata": {},
   "outputs": [
    {
     "ename": "",
     "evalue": "",
     "output_type": "error",
     "traceback": [
      "\u001b[1;31mRunning cells with 'c:\\Users\\dhurv\\AppData\\Local\\Programs\\Python\\Python311\\python.exe' requires the ipykernel package.\n",
      "\u001b[1;31mRun the following command to install 'ipykernel' into the Python environment. \n",
      "\u001b[1;31mCommand: 'c:/Users/dhurv/AppData/Local/Programs/Python/Python311/python.exe -m pip install ipykernel -U --user --force-reinstall'"
     ]
    }
   ],
   "source": [
    "import numpy as np\n",
    "import pandas as pd\n",
    "import yfinance as yf\n",
    "import matplotlib.pyplot as plt\n",
    "from statsmodels.tsa.stattools import adfuller"
   ]
  },
  {
   "attachments": {},
   "cell_type": "markdown",
   "id": "efbe9a2a",
   "metadata": {},
   "source": [
    "Task 1"
   ]
  },
  {
   "cell_type": "code",
   "execution_count": null,
   "id": "4b75fe59",
   "metadata": {
    "lines_to_next_cell": 2
   },
   "outputs": [],
   "source": [
    "data1=yf.download('ACC.NS', start='2021-05-01', end='2023-05-25')\n",
    "data2=yf.download('TATASTEEL.NS', start='2021-05-01', end='2023-05-25')\n",
    "data3=yf.download('AAPL', start='2021-05-01', end='2023-05-25')\n",
    "data4=yf.download('FL', start='2021-05-01', end='2023-05-25')\n",
    "start_date = '2023-01-01'\n",
    "end_date = '2023-05-25'\n",
    "short_data1 = data1[(data1.index >= start_date) & (data1.index <= end_date)]\n",
    "short_data2 = data2[(data2.index >= start_date) & (data2.index <= end_date)]\n",
    "short_data5 = data3[(data1.index >= start_date) & (data1.index <= end_date)]\n",
    "short_data6 = data4[(data2.index >= start_date) & (data2.index <= end_date)]\n",
    "result1 = adfuller(short_data1['Close'])\n",
    "result2 = adfuller(short_data2['Close'])\n",
    "p_value1 = result1[1]\n",
    "print(\"p-value of ACC.NS is:\", p_value1)\n",
    "p_value2 = result2[1]\n",
    "print(\"p-value of TATASTEEL.NS:\", p_value2)\n",
    "result3 = adfuller(short_data1['Close']/short_data2['Close'])\n",
    "p_value3= result3[1]\n",
    "print('p-value of their ratio is:', p_value3)\n",
    "result4 = adfuller(short_data2['Close']/short_data1['Close'])\n",
    "p_value4= result4[1]\n",
    "print('p-value of their ratio is:', p_value4)\n",
    "result5 = adfuller(short_data5['Close']/short_data6['Close'])\n",
    "p_value5= result3[1]\n",
    "print('p-value of their ratio is:', p_value5)\n",
    "result6 = adfuller(short_data6['Close']/short_data5['Close'])\n",
    "p_value6= result6[1]\n",
    "print('p-value of their ratio is:', p_value6)"
   ]
  },
  {
   "attachments": {},
   "cell_type": "markdown",
   "id": "a4e309be",
   "metadata": {},
   "source": [
    "Task 2"
   ]
  },
  {
   "cell_type": "code",
   "execution_count": null,
   "id": "69f1be87",
   "metadata": {},
   "outputs": [],
   "source": [
    "arr=np.array(data1['Close']/data2['Close'])\n",
    "mean=np.mean(arr)\n",
    "std_dev=np.std(arr)\n",
    "Z_score=np.array((arr-mean)/std_dev)"
   ]
  },
  {
   "cell_type": "code",
   "execution_count": null,
   "id": "2cc8f068",
   "metadata": {},
   "outputs": [],
   "source": [
    "arr2=np.array(data3['Close']/data4['Close'])\n",
    "mean2=np.mean(arr2)\n",
    "std_dev2=np.std(arr2)\n",
    "Z_score2=np.array((arr2-mean2)/std_dev2)"
   ]
  },
  {
   "attachments": {},
   "cell_type": "markdown",
   "id": "806078dc",
   "metadata": {},
   "source": [
    "plotting the graph"
   ]
  },
  {
   "cell_type": "code",
   "execution_count": null,
   "id": "68c0d735",
   "metadata": {},
   "outputs": [],
   "source": [
    "ypoints = np.array(Z_score)\n",
    "xpoints = np.array(data1.index)"
   ]
  },
  {
   "cell_type": "code",
   "execution_count": null,
   "id": "6d039ea3",
   "metadata": {},
   "outputs": [],
   "source": [
    "plt.plot(xpoints, ypoints)\n",
    "plt.axhline(y=0, color='red', linestyle='--')\n",
    "plt.axhline(y=2, color='red', linestyle='--')\n",
    "plt.axhline(y=-2, color='red', linestyle='--')\n",
    "plt.xlabel(\"Date\")\n",
    "plt.ylabel(\"Z Score 1\")\n",
    "plt.show()"
   ]
  },
  {
   "cell_type": "code",
   "execution_count": null,
   "id": "cf48f480",
   "metadata": {},
   "outputs": [],
   "source": [
    "ypoints2 = np.array(Z_score2)\n",
    "xpoints2 = np.array(data3.index)"
   ]
  },
  {
   "cell_type": "code",
   "execution_count": null,
   "id": "d5e47552",
   "metadata": {},
   "outputs": [],
   "source": [
    "plt.plot(xpoints2, ypoints2)\n",
    "plt.axhline(y=0, color='red', linestyle='--')\n",
    "plt.axhline(y=2, color='red', linestyle='--')\n",
    "plt.axhline(y=-2, color='red', linestyle='--')\n",
    "plt.xlabel(\"Date\")\n",
    "plt.ylabel(\"Z score 2\")\n",
    "plt.show()"
   ]
  },
  {
   "attachments": {},
   "cell_type": "markdown",
   "id": "e164c420",
   "metadata": {},
   "source": [
    "Task 3"
   ]
  },
  {
   "cell_type": "code",
   "execution_count": null,
   "id": "dedfe75e",
   "metadata": {},
   "outputs": [],
   "source": [
    "Returns= np.array(data1[\"Adj Close\"].pct_change())\n",
    "Returns = Returns[~np.isnan(Returns)]\n",
    "avg_return=np.mean(Returns)\n",
    "Rf=0.02\n",
    "std_dev2=np.std(Returns)\n",
    "sharpe=(avg_return-Rf)/std_dev2\n",
    "print(\"sharpe ratio is:\",sharpe)"
   ]
  },
  {
   "attachments": {},
   "cell_type": "markdown",
   "id": "209c8289",
   "metadata": {},
   "source": [
    "Task 4"
   ]
  },
  {
   "cell_type": "code",
   "execution_count": null,
   "id": "e56220fb",
   "metadata": {},
   "outputs": [],
   "source": [
    "window_size1 = len(data1)\n",
    "data1['MA_50'] = data1['Close'].rolling(window=window_size1).mean()\n",
    "death_cross_points1 = data1[data1['MA_50'] < data1['Close']]\n",
    "print(\"Death cross date index for 50 day moving average is:\",death_cross_points1.index)"
   ]
  },
  {
   "cell_type": "code",
   "execution_count": null,
   "id": "a792ac5e",
   "metadata": {},
   "outputs": [],
   "source": [
    "data1['MA_15'] = data1['Close'].rolling(window=15).mean()\n",
    "death_cross_points2 = data1[data1['MA_15'] < data1['Close']]\n",
    "print(\"Death cross date index for 15 day moving average is:\",death_cross_points2.index)"
   ]
  },
  {
   "cell_type": "code",
   "execution_count": null,
   "id": "4c91008b",
   "metadata": {},
   "outputs": [],
   "source": [
    "golden_cross_points = data1[data1['MA_50'] > data1['Close']]\n",
    "print(\"Golden cross date index for 15 day moving average is:\",golden_cross_points.index)"
   ]
  },
  {
   "cell_type": "code",
   "execution_count": null,
   "id": "13e3650a",
   "metadata": {},
   "outputs": [],
   "source": [
    "golden_cross_points2 = data1[data1['MA_15'] > data1['Close']]\n",
    "print(\"Golden cross date index for 15 day moving average is:\",golden_cross_points2.index)"
   ]
  },
  {
   "cell_type": "code",
   "execution_count": null,
   "id": "9f79b27d",
   "metadata": {
    "lines_to_next_cell": 2
   },
   "outputs": [],
   "source": []
  }
 ],
 "metadata": {
  "jupytext": {
   "cell_metadata_filter": "-all",
   "main_language": "python",
   "notebook_metadata_filter": "-all"
  },
  "kernelspec": {
   "display_name": "Python 3",
   "language": "python",
   "name": "python3"
  },
  "language_info": {
   "name": "python",
   "version": "3.11.3"
  }
 },
 "nbformat": 4,
 "nbformat_minor": 5
}
